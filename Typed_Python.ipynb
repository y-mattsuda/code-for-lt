{
 "cells": [
  {
   "cell_type": "raw",
   "id": "1e00c4da-1ec9-4402-a28b-6ad4b241b3a8",
   "metadata": {},
   "source": [
    "---\n",
    "title: \"Typed Python\"\n",
    "subtitle: \"Python 型アノテーション with Python3.11\"\n",
    "author: 松田 耀一\n",
    "institute: IT・エンジニアチーム\n",
    "date: today\n",
    "date-format: \"YYYY/MM/DD\"\n",
    "format: \n",
    "  revealjs:\n",
    "    transition: fade\n",
    "    theme: solarized\n",
    "    slide-number: true\n",
    "  \n",
    "jupyter: python3\n",
    "---"
   ]
  },
  {
   "cell_type": "markdown",
   "id": "8776c2d1-722b-4e14-8b78-4b3f50f45bd4",
   "metadata": {},
   "source": [
    "## 自己紹介{.smaller}\n",
    ":::: {.columns}\n",
    "\n",
    "::: {.column width=\"50%\"}\n",
    "### 略歴\n",
    "- 福井県立藤島高校\n",
    "- 京都大学医学部医学科\n",
    "    - B3\n",
    "\n",
    "### 東進歴\n",
    "- 2020/10〜 物理科添削者\n",
    "- 2020/11〜 物理チームリーダー\n",
    "- 2021/04〜 ITチーム加入\n",
    ":::\n",
    "\n",
    "::: {.column width=\"50%\"}\n",
    "### プログラミング歴\n",
    "- Python歴 1年半くらい\n",
    "- Go歴 数ヶ月\n",
    "- その他勉強中\n",
    "    - TypeScript, Rust, Haskell\n",
    ":::\n",
    "\n",
    "::::"
   ]
  },
  {
   "cell_type": "markdown",
   "id": "89019fc2-866e-4086-8fe4-f31e31d075de",
   "metadata": {},
   "source": [
    "## 目次\n",
    "- Pythonと型アノテーション\n",
    "- typing関連豆知識n連発"
   ]
  },
  {
   "cell_type": "markdown",
   "id": "1596d79d-d315-4743-91c4-ea278453e4ca",
   "metadata": {},
   "source": [
    "## Pythonと型アノテーション\n",
    "- 型アノテーションは実行時の挙動に影響を与えない\n",
    "- Python <-> 型アノテーション付きPython\n",
    "    - 型の静的解析は[mypy](https://github.com/python/mypy)や[pyright](https://github.com/microsoft/pyright)が行う\n",
    "    - 両者は微妙に互換性がないので, 厄介...([参考](https://future-architect.github.io/articles/20220301a/))\n",
    "- JavaScript <-> TypeScript\n",
    "    - 型の静的解析はトランスパイラであるtscが行う"
   ]
  },
  {
   "cell_type": "markdown",
   "id": "185717de-1291-466c-a64d-5395019a6dad",
   "metadata": {},
   "source": [
    "## typing関連豆知識n連発{.smaller}\n",
    "### `NewType` (3.11<=)\n",
    "- 部分型であることを型チェッカーに教える\n",
    "- ドメイン固有型で属性を一つも持たないときとか...？"
   ]
  },
  {
   "cell_type": "code",
   "execution_count": 6,
   "id": "43511c83-d717-468f-b9ab-c4a225b5a9d6",
   "metadata": {},
   "outputs": [],
   "source": [
    "#| echo: true\n",
    "from typing import NewType\n",
    "# Money <: int\n",
    "Money = NewType(\"Money\", int)\n",
    "def add_money(a: Money, b: Money) -> Money:\n",
    "    return a + b"
   ]
  },
  {
   "cell_type": "code",
   "execution_count": 11,
   "id": "07a41ab3-0f1d-4921-8bb8-c7f0767d8036",
   "metadata": {},
   "outputs": [
    {
     "data": {
      "text/plain": [
       "3"
      ]
     },
     "execution_count": 11,
     "metadata": {},
     "output_type": "execute_result"
    }
   ],
   "source": [
    "#| echo: true\n",
    "add_money(Money(1), Money(2))"
   ]
  },
  {
   "cell_type": "code",
   "execution_count": 13,
   "id": "3669eb79-8cc0-4178-8b19-6221524e639b",
   "metadata": {},
   "outputs": [
    {
     "data": {
      "text/plain": [
       "3"
      ]
     },
     "execution_count": 13,
     "metadata": {},
     "output_type": "execute_result"
    }
   ],
   "source": [
    "#| echo: true\n",
    "# 実行時エラーにはならない\n",
    "add_money(1, 2)"
   ]
  },
  {
   "cell_type": "markdown",
   "id": "ddf34a13-b57a-4ce0-8ba2-dbd617aca5ef",
   "metadata": {},
   "source": [
    "- mypyでエラーを検出\n",
    "    - ` error: Argument 1 to \"add_money\" has incompatible type \"int\"; expected \"Money\"  [arg-type]`"
   ]
  },
  {
   "cell_type": "markdown",
   "id": "5f1a429e-3b9c-4f23-957d-b7904ec1420f",
   "metadata": {},
   "source": [
    "## typing関連豆知識n連発{.smaller}\n",
    "### `Protocol` (3.8<=)\n",
    "- TypeScriptやGoのような構造的部分型(structual subtyping)を表現可能に\n",
    "- 明示的に親クラスを継承しなくても, 属性が対応していれば部分型とみなす\n",
    "- static duck typing"
   ]
  },
  {
   "cell_type": "code",
   "execution_count": 22,
   "id": "05d15204-f045-466a-a4bc-ac1c2f351f0b",
   "metadata": {},
   "outputs": [],
   "source": [
    "#| echo: true\n",
    "from typing import Protocol\n",
    "class IPerson(Protocol):\n",
    "    def walk(self) -> None:\n",
    "        pass\n",
    "class ImplPerson:\n",
    "    def walk(self) -> None:\n",
    "        print(f\"I will walk!\")\n",
    "class NoImplPerson:...\n",
    "\n",
    "def call_walkable(person: IPerson):\n",
    "    person.walk()"
   ]
  },
  {
   "cell_type": "code",
   "execution_count": 23,
   "id": "4ba594b3-c4ce-4ab3-aaf8-b59e2372798b",
   "metadata": {},
   "outputs": [
    {
     "name": "stdout",
     "output_type": "stream",
     "text": [
      "I will walk!\n"
     ]
    }
   ],
   "source": [
    "#| echo: true\n",
    "call_walkable(ImplPerson())"
   ]
  },
  {
   "attachments": {},
   "cell_type": "markdown",
   "id": "6a45a23d",
   "metadata": {},
   "source": [
    "## typing関連豆知識n連発{.smaller}\n",
    "### `Protocol` (3.8<=)"
   ]
  },
  {
   "cell_type": "code",
   "execution_count": null,
   "id": "e85103c0",
   "metadata": {},
   "outputs": [],
   "source": [
    "#| echo: true\n",
    "from typing import Protocol\n",
    "class IPerson(Protocol):\n",
    "    def walk(self) -> None:\n",
    "        pass\n",
    "class ImplPerson:\n",
    "    def walk(self) -> None:\n",
    "        print(f\"I will walk!\")\n",
    "class NoImplPerson:...\n",
    "\n",
    "def call_walkable(person: IPerson):\n",
    "    person.walk()"
   ]
  },
  {
   "cell_type": "code",
   "execution_count": 24,
   "id": "bb6420a8-da8d-44ab-b24f-f7d8369b8aa0",
   "metadata": {},
   "outputs": [
    {
     "ename": "AttributeError",
     "evalue": "'NoImplPerson' object has no attribute 'walk'",
     "output_type": "error",
     "traceback": [
      "\u001b[0;31m---------------------------------------------------------------------------\u001b[0m",
      "\u001b[0;31mAttributeError\u001b[0m                            Traceback (most recent call last)",
      "Cell \u001b[0;32mIn[24], line 2\u001b[0m\n\u001b[1;32m      1\u001b[0m \u001b[38;5;66;03m#| echo: true\u001b[39;00m\n\u001b[0;32m----> 2\u001b[0m \u001b[43mcall_walkable\u001b[49m\u001b[43m(\u001b[49m\u001b[43mNoImplPerson\u001b[49m\u001b[43m(\u001b[49m\u001b[43m)\u001b[49m\u001b[43m)\u001b[49m\n",
      "Cell \u001b[0;32mIn[22], line 12\u001b[0m, in \u001b[0;36mcall_walkable\u001b[0;34m(person)\u001b[0m\n\u001b[1;32m     11\u001b[0m \u001b[38;5;28;01mdef\u001b[39;00m \u001b[38;5;21mcall_walkable\u001b[39m(person: IPerson):\n\u001b[0;32m---> 12\u001b[0m     \u001b[43mperson\u001b[49m\u001b[38;5;241;43m.\u001b[39;49m\u001b[43mwalk\u001b[49m()\n",
      "\u001b[0;31mAttributeError\u001b[0m: 'NoImplPerson' object has no attribute 'walk'"
     ]
    }
   ],
   "source": [
    "#| echo: true\n",
    "call_walkable(NoImplPerson())"
   ]
  },
  {
   "cell_type": "markdown",
   "id": "0887bb00-b660-4095-a689-6c8a3f73512a",
   "metadata": {},
   "source": [
    "- Protocolを満たしていないクラスのインスタンスへの呼び出しはmypyでもエラーになる\n",
    "    - `error: Argument 1 to \"call_walkable\" has incompatible type \"NoImplPerson\"; expected \"IPerson\"  [arg-type]`"
   ]
  },
  {
   "cell_type": "markdown",
   "id": "601f99f4-5a80-42bc-bd08-7fca548a3db3",
   "metadata": {},
   "source": [
    "## typing関連豆知識n連発{.smaller}\n",
    "### `Literal` (3.8<=)\n",
    "- TypeScriptでの`type fooOrBar: \"foo\" | \"bar\"`のようなことができる"
   ]
  },
  {
   "cell_type": "code",
   "execution_count": 35,
   "id": "f2a31b95-4cf2-4a53-a8fc-d2e72a54c68c",
   "metadata": {},
   "outputs": [],
   "source": [
    "#| echo: true\n",
    "from typing import Literal\n",
    "Subject = Literal[\"math\", \"english\", \"japanese\"]\n",
    "def get_score(subject: Subject) -> int:\n",
    "    # Subject型以外の文字列だとバグるかもしれない関数\n",
    "    if subject == \"physics\": raise ValueError(\"エラーだよ\")"
   ]
  },
  {
   "cell_type": "code",
   "execution_count": 36,
   "id": "fa7f5b99-ec3a-4dc1-9bd1-af3d8f66ca64",
   "metadata": {},
   "outputs": [],
   "source": [
    "#| echo: true\n",
    "get_score(\"math\")"
   ]
  },
  {
   "cell_type": "code",
   "execution_count": 37,
   "id": "a725b479-fc4c-487a-85a7-89f977471ff5",
   "metadata": {},
   "outputs": [
    {
     "ename": "ValueError",
     "evalue": "エラーだよ",
     "output_type": "error",
     "traceback": [
      "\u001b[0;31m---------------------------------------------------------------------------\u001b[0m",
      "\u001b[0;31mValueError\u001b[0m                                Traceback (most recent call last)",
      "Cell \u001b[0;32mIn[37], line 2\u001b[0m\n\u001b[1;32m      1\u001b[0m \u001b[38;5;66;03m#| echo: true\u001b[39;00m\n\u001b[0;32m----> 2\u001b[0m \u001b[43mget_score\u001b[49m\u001b[43m(\u001b[49m\u001b[38;5;124;43m\"\u001b[39;49m\u001b[38;5;124;43mphysics\u001b[39;49m\u001b[38;5;124;43m\"\u001b[39;49m\u001b[43m)\u001b[49m\n",
      "Cell \u001b[0;32mIn[35], line 6\u001b[0m, in \u001b[0;36mget_score\u001b[0;34m(subject)\u001b[0m\n\u001b[1;32m      4\u001b[0m \u001b[38;5;28;01mdef\u001b[39;00m \u001b[38;5;21mget_score\u001b[39m(subject: Subject) \u001b[38;5;241m-\u001b[39m\u001b[38;5;241m>\u001b[39m \u001b[38;5;28mint\u001b[39m:\n\u001b[1;32m      5\u001b[0m     \u001b[38;5;66;03m# Subject型以外の文字列だとバグるかもしれない関数\u001b[39;00m\n\u001b[0;32m----> 6\u001b[0m     \u001b[38;5;28;01mif\u001b[39;00m subject \u001b[38;5;241m==\u001b[39m \u001b[38;5;124m\"\u001b[39m\u001b[38;5;124mphysics\u001b[39m\u001b[38;5;124m\"\u001b[39m: \u001b[38;5;28;01mraise\u001b[39;00m \u001b[38;5;167;01mValueError\u001b[39;00m(\u001b[38;5;124m\"\u001b[39m\u001b[38;5;124mエラーだよ\u001b[39m\u001b[38;5;124m\"\u001b[39m)\n",
      "\u001b[0;31mValueError\u001b[0m: エラーだよ"
     ]
    }
   ],
   "source": [
    "#| echo: true\n",
    "get_score(\"physics\")"
   ]
  },
  {
   "cell_type": "markdown",
   "id": "f8aabe6a-ef48-4777-85c1-3af3d40f458b",
   "metadata": {},
   "source": [
    "- 動かす前に, mypyでエラーを見つけることができる\n",
    "    - `error: Argument 1 to \"get_score\" has incompatible type \"Literal['physics']\"; expected \"Literal['math', 'english', 'japanese']\"  [arg-type]`"
   ]
  },
  {
   "cell_type": "markdown",
   "id": "f197959a-d4d6-482e-87da-0f2079524efc",
   "metadata": {},
   "source": [
    "## typing関連豆知識n連発{.smaller}\n",
    "### `TypedDict` (3.8<=)\n",
    "- (特に)辞書のvalueに複数種類の型を許したいときに、厳密に型チェックを行える\n",
    "    - そもそもそのようなユースケースでは`dataclasses.dataclass`を使うべきと思いますが..."
   ]
  },
  {
   "cell_type": "code",
   "execution_count": 43,
   "id": "87b059c7-ca4c-4bcf-b708-227aca963009",
   "metadata": {},
   "outputs": [],
   "source": [
    "#| echo: true\n",
    "# これでは各キーがintとstr両方を取れてしまう\n",
    "UserDic = dict[str, int | str]\n",
    "user: UserDic = {\"uid\": 1, \"name\": \"john\"}\n",
    "# これを型エラーにできない\n",
    "user2: UserDic = {\"uid\": \"1\", \"name\": 123}\n",
    "\n",
    "from typing import TypedDict\n",
    "class User(TypedDict):\n",
    "    uid: int\n",
    "    name: str\n",
    "user3: User = {\"uid\": 1, \"name\": \"john\"}\n",
    "# 型エラー\n",
    "user4: User = {\"uid\": \"1\", \"name\": 123}"
   ]
  },
  {
   "attachments": {},
   "cell_type": "markdown",
   "id": "36a3f891",
   "metadata": {},
   "source": [
    "## typing関連豆知識n連発{.smaller}\n",
    "### `TypedDict` (3.8<=)\n",
    "- (特に)辞書のvalueに複数種類の型を許したいときに、厳密に型チェックを行える\n",
    "    - そもそもそのようなユースケースでは`dataclasses.dataclass`を使うべきと思いますが..."
   ]
  },
  {
   "cell_type": "code",
   "execution_count": null,
   "id": "36ada3cc",
   "metadata": {},
   "outputs": [],
   "source": [
    "#| echo: true\n",
    "from typing import TypedDict\n",
    "class User(TypedDict):\n",
    "    uid: int\n",
    "    name: str\n",
    "user3: User = {\"uid\": 1, \"name\": \"john\"}\n",
    "# 型エラー\n",
    "user4: User = {\"uid\": \"1\", \"name\": 123}"
   ]
  },
  {
   "attachments": {},
   "cell_type": "markdown",
   "id": "c23e5a65",
   "metadata": {},
   "source": [
    "- mypyでエラーとして検出できる\n",
    "    - `error: Incompatible types (expression has type \"str\", TypedDict item \"uid\" has type \"int\")  [typeddict-item]`\n",
    "    - `error: Incompatible types (expression has type \"int\", TypedDict item \"name\" has type \"str\")  [typeddict-item]`"
   ]
  },
  {
   "cell_type": "markdown",
   "id": "7cc80f04-195c-4f67-aa75-5eb9a73acaff",
   "metadata": {},
   "source": [
    "## typing関連豆知識n連発{.smaller}\n",
    "### `TypeGuard` (3.10<=)\n",
    "- mypyやpyrightに無理やりtype narrowingをさせる機能\n",
    "- 実装が間違っていても型チェッカは信じてしまうので諸刃の剣"
   ]
  },
  {
   "cell_type": "code",
   "execution_count": 48,
   "id": "4e3ddf62-9af5-407d-ae1e-c9fcbb878a51",
   "metadata": {},
   "outputs": [],
   "source": [
    "#| echo: true\n",
    "from typing import TypeGuard\n",
    "def is_strs(vals: list[str] | list[int]) -> TypeGuard[list[str]]:\n",
    "    return all(isinstance(v, str) for v in vals)\n",
    "def is_ints(vals: list[str] | list[int]) -> TypeGuard[list[int]]:\n",
    "    return all(isinstance(v, int) for v in vals)\n",
    "\n",
    "def foo(vals: list[str] | list[int]):\n",
    "    if all(isinstance(v, str) for v in vals):\n",
    "        # ここで型エラーが出てしまう\n",
    "        # vはstr | int型と認識される\n",
    "        return [v.upper() for v in vals]\n",
    "\n",
    "def bar(vals: list[str] | list[int]) -> list[str]:\n",
    "    match vals:\n",
    "        case vals if is_strs(vals):\n",
    "            # vはstr型だと認識される\n",
    "            return [v.upper() for v in vals]\n",
    "        case vals if is_ints(vals):\n",
    "            return [f\"{v + 1}\" for v in vals]\n",
    "        case _:\n",
    "            raise TypeError(\"invalid type\")"
   ]
  }
 ],
 "metadata": {
  "kernelspec": {
   "display_name": "typed_python",
   "language": "python",
   "name": "typed_python"
  },
  "language_info": {
   "codemirror_mode": {
    "name": "ipython",
    "version": 3
   },
   "file_extension": ".py",
   "mimetype": "text/x-python",
   "name": "python",
   "nbconvert_exporter": "python",
   "pygments_lexer": "ipython3",
   "version": "3.11.0"
  }
 },
 "nbformat": 4,
 "nbformat_minor": 5
}
